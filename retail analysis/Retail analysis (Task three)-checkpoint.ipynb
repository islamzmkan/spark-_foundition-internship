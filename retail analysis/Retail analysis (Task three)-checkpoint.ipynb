{
 "cells": [
  {
   "cell_type": "markdown",
   "id": "3a947da7",
   "metadata": {},
   "source": [
    "# Islam Gamal Elzamkan"
   ]
  },
  {
   "cell_type": "markdown",
   "id": "2864780e",
   "metadata": {},
   "source": [
    "# Task three (Retail analysis)"
   ]
  },
  {
   "cell_type": "markdown",
   "id": "8371af17",
   "metadata": {},
   "source": [
    "# first we import libraries"
   ]
  },
  {
   "cell_type": "code",
   "execution_count": 1,
   "id": "1998411a",
   "metadata": {},
   "outputs": [],
   "source": [
    "import pandas as pd\n",
    "import numpy as np\n",
    "import matplotlib.pyplot as plt \n",
    "import seaborn as sns\n",
    "%matplotlib inline"
   ]
  },
  {
   "cell_type": "markdown",
   "id": "fda4605d",
   "metadata": {},
   "source": [
    "# Read dataset from csv file"
   ]
  },
  {
   "cell_type": "code",
   "execution_count": 2,
   "id": "86e3b5b6",
   "metadata": {},
   "outputs": [
    {
     "data": {
      "text/html": [
       "<div>\n",
       "<style scoped>\n",
       "    .dataframe tbody tr th:only-of-type {\n",
       "        vertical-align: middle;\n",
       "    }\n",
       "\n",
       "    .dataframe tbody tr th {\n",
       "        vertical-align: top;\n",
       "    }\n",
       "\n",
       "    .dataframe thead th {\n",
       "        text-align: right;\n",
       "    }\n",
       "</style>\n",
       "<table border=\"1\" class=\"dataframe\">\n",
       "  <thead>\n",
       "    <tr style=\"text-align: right;\">\n",
       "      <th></th>\n",
       "      <th>Ship Mode</th>\n",
       "      <th>Segment</th>\n",
       "      <th>Country</th>\n",
       "      <th>City</th>\n",
       "      <th>State</th>\n",
       "      <th>Postal Code</th>\n",
       "      <th>Region</th>\n",
       "      <th>Category</th>\n",
       "      <th>Sub-Category</th>\n",
       "      <th>Sales</th>\n",
       "      <th>Quantity</th>\n",
       "      <th>Discount</th>\n",
       "      <th>Profit</th>\n",
       "    </tr>\n",
       "  </thead>\n",
       "  <tbody>\n",
       "    <tr>\n",
       "      <th>0</th>\n",
       "      <td>Second Class</td>\n",
       "      <td>Consumer</td>\n",
       "      <td>United States</td>\n",
       "      <td>Henderson</td>\n",
       "      <td>Kentucky</td>\n",
       "      <td>42420</td>\n",
       "      <td>South</td>\n",
       "      <td>Furniture</td>\n",
       "      <td>Bookcases</td>\n",
       "      <td>261.9600</td>\n",
       "      <td>2</td>\n",
       "      <td>0.00</td>\n",
       "      <td>41.9136</td>\n",
       "    </tr>\n",
       "    <tr>\n",
       "      <th>1</th>\n",
       "      <td>Second Class</td>\n",
       "      <td>Consumer</td>\n",
       "      <td>United States</td>\n",
       "      <td>Henderson</td>\n",
       "      <td>Kentucky</td>\n",
       "      <td>42420</td>\n",
       "      <td>South</td>\n",
       "      <td>Furniture</td>\n",
       "      <td>Chairs</td>\n",
       "      <td>731.9400</td>\n",
       "      <td>3</td>\n",
       "      <td>0.00</td>\n",
       "      <td>219.5820</td>\n",
       "    </tr>\n",
       "    <tr>\n",
       "      <th>2</th>\n",
       "      <td>Second Class</td>\n",
       "      <td>Corporate</td>\n",
       "      <td>United States</td>\n",
       "      <td>Los Angeles</td>\n",
       "      <td>California</td>\n",
       "      <td>90036</td>\n",
       "      <td>West</td>\n",
       "      <td>Office Supplies</td>\n",
       "      <td>Labels</td>\n",
       "      <td>14.6200</td>\n",
       "      <td>2</td>\n",
       "      <td>0.00</td>\n",
       "      <td>6.8714</td>\n",
       "    </tr>\n",
       "    <tr>\n",
       "      <th>3</th>\n",
       "      <td>Standard Class</td>\n",
       "      <td>Consumer</td>\n",
       "      <td>United States</td>\n",
       "      <td>Fort Lauderdale</td>\n",
       "      <td>Florida</td>\n",
       "      <td>33311</td>\n",
       "      <td>South</td>\n",
       "      <td>Furniture</td>\n",
       "      <td>Tables</td>\n",
       "      <td>957.5775</td>\n",
       "      <td>5</td>\n",
       "      <td>0.45</td>\n",
       "      <td>-383.0310</td>\n",
       "    </tr>\n",
       "    <tr>\n",
       "      <th>4</th>\n",
       "      <td>Standard Class</td>\n",
       "      <td>Consumer</td>\n",
       "      <td>United States</td>\n",
       "      <td>Fort Lauderdale</td>\n",
       "      <td>Florida</td>\n",
       "      <td>33311</td>\n",
       "      <td>South</td>\n",
       "      <td>Office Supplies</td>\n",
       "      <td>Storage</td>\n",
       "      <td>22.3680</td>\n",
       "      <td>2</td>\n",
       "      <td>0.20</td>\n",
       "      <td>2.5164</td>\n",
       "    </tr>\n",
       "  </tbody>\n",
       "</table>\n",
       "</div>"
      ],
      "text/plain": [
       "        Ship Mode    Segment        Country             City       State  \\\n",
       "0    Second Class   Consumer  United States        Henderson    Kentucky   \n",
       "1    Second Class   Consumer  United States        Henderson    Kentucky   \n",
       "2    Second Class  Corporate  United States      Los Angeles  California   \n",
       "3  Standard Class   Consumer  United States  Fort Lauderdale     Florida   \n",
       "4  Standard Class   Consumer  United States  Fort Lauderdale     Florida   \n",
       "\n",
       "   Postal Code Region         Category Sub-Category     Sales  Quantity  \\\n",
       "0        42420  South        Furniture    Bookcases  261.9600         2   \n",
       "1        42420  South        Furniture       Chairs  731.9400         3   \n",
       "2        90036   West  Office Supplies       Labels   14.6200         2   \n",
       "3        33311  South        Furniture       Tables  957.5775         5   \n",
       "4        33311  South  Office Supplies      Storage   22.3680         2   \n",
       "\n",
       "   Discount    Profit  \n",
       "0      0.00   41.9136  \n",
       "1      0.00  219.5820  \n",
       "2      0.00    6.8714  \n",
       "3      0.45 -383.0310  \n",
       "4      0.20    2.5164  "
      ]
     },
     "execution_count": 2,
     "metadata": {},
     "output_type": "execute_result"
    }
   ],
   "source": [
    "data=pd.read_csv(\"Downloads//SampleSuperstore.csv\")\n",
    "data.head()"
   ]
  },
  {
   "cell_type": "markdown",
   "id": "675652f0",
   "metadata": {},
   "source": [
    "# Take a look on dataset details"
   ]
  },
  {
   "cell_type": "markdown",
   "id": "145f557f",
   "metadata": {},
   "source": [
    "# some statistical information"
   ]
  },
  {
   "cell_type": "code",
   "execution_count": 3,
   "id": "133a824e",
   "metadata": {},
   "outputs": [
    {
     "data": {
      "text/html": [
       "<div>\n",
       "<style scoped>\n",
       "    .dataframe tbody tr th:only-of-type {\n",
       "        vertical-align: middle;\n",
       "    }\n",
       "\n",
       "    .dataframe tbody tr th {\n",
       "        vertical-align: top;\n",
       "    }\n",
       "\n",
       "    .dataframe thead th {\n",
       "        text-align: right;\n",
       "    }\n",
       "</style>\n",
       "<table border=\"1\" class=\"dataframe\">\n",
       "  <thead>\n",
       "    <tr style=\"text-align: right;\">\n",
       "      <th></th>\n",
       "      <th>Postal Code</th>\n",
       "      <th>Sales</th>\n",
       "      <th>Quantity</th>\n",
       "      <th>Discount</th>\n",
       "      <th>Profit</th>\n",
       "    </tr>\n",
       "  </thead>\n",
       "  <tbody>\n",
       "    <tr>\n",
       "      <th>count</th>\n",
       "      <td>9994.000000</td>\n",
       "      <td>9994.000000</td>\n",
       "      <td>9994.000000</td>\n",
       "      <td>9994.000000</td>\n",
       "      <td>9994.000000</td>\n",
       "    </tr>\n",
       "    <tr>\n",
       "      <th>mean</th>\n",
       "      <td>55190.379428</td>\n",
       "      <td>229.858001</td>\n",
       "      <td>3.789574</td>\n",
       "      <td>0.156203</td>\n",
       "      <td>28.656896</td>\n",
       "    </tr>\n",
       "    <tr>\n",
       "      <th>std</th>\n",
       "      <td>32063.693350</td>\n",
       "      <td>623.245101</td>\n",
       "      <td>2.225110</td>\n",
       "      <td>0.206452</td>\n",
       "      <td>234.260108</td>\n",
       "    </tr>\n",
       "    <tr>\n",
       "      <th>min</th>\n",
       "      <td>1040.000000</td>\n",
       "      <td>0.444000</td>\n",
       "      <td>1.000000</td>\n",
       "      <td>0.000000</td>\n",
       "      <td>-6599.978000</td>\n",
       "    </tr>\n",
       "    <tr>\n",
       "      <th>25%</th>\n",
       "      <td>23223.000000</td>\n",
       "      <td>17.280000</td>\n",
       "      <td>2.000000</td>\n",
       "      <td>0.000000</td>\n",
       "      <td>1.728750</td>\n",
       "    </tr>\n",
       "    <tr>\n",
       "      <th>50%</th>\n",
       "      <td>56430.500000</td>\n",
       "      <td>54.490000</td>\n",
       "      <td>3.000000</td>\n",
       "      <td>0.200000</td>\n",
       "      <td>8.666500</td>\n",
       "    </tr>\n",
       "    <tr>\n",
       "      <th>75%</th>\n",
       "      <td>90008.000000</td>\n",
       "      <td>209.940000</td>\n",
       "      <td>5.000000</td>\n",
       "      <td>0.200000</td>\n",
       "      <td>29.364000</td>\n",
       "    </tr>\n",
       "    <tr>\n",
       "      <th>max</th>\n",
       "      <td>99301.000000</td>\n",
       "      <td>22638.480000</td>\n",
       "      <td>14.000000</td>\n",
       "      <td>0.800000</td>\n",
       "      <td>8399.976000</td>\n",
       "    </tr>\n",
       "  </tbody>\n",
       "</table>\n",
       "</div>"
      ],
      "text/plain": [
       "        Postal Code         Sales     Quantity     Discount       Profit\n",
       "count   9994.000000   9994.000000  9994.000000  9994.000000  9994.000000\n",
       "mean   55190.379428    229.858001     3.789574     0.156203    28.656896\n",
       "std    32063.693350    623.245101     2.225110     0.206452   234.260108\n",
       "min     1040.000000      0.444000     1.000000     0.000000 -6599.978000\n",
       "25%    23223.000000     17.280000     2.000000     0.000000     1.728750\n",
       "50%    56430.500000     54.490000     3.000000     0.200000     8.666500\n",
       "75%    90008.000000    209.940000     5.000000     0.200000    29.364000\n",
       "max    99301.000000  22638.480000    14.000000     0.800000  8399.976000"
      ]
     },
     "execution_count": 3,
     "metadata": {},
     "output_type": "execute_result"
    }
   ],
   "source": [
    "data.describe()"
   ]
  },
  {
   "cell_type": "code",
   "execution_count": 4,
   "id": "396aca99",
   "metadata": {},
   "outputs": [
    {
     "name": "stdout",
     "output_type": "stream",
     "text": [
      "<class 'pandas.core.frame.DataFrame'>\n",
      "RangeIndex: 9994 entries, 0 to 9993\n",
      "Data columns (total 13 columns):\n",
      " #   Column        Non-Null Count  Dtype  \n",
      "---  ------        --------------  -----  \n",
      " 0   Ship Mode     9994 non-null   object \n",
      " 1   Segment       9994 non-null   object \n",
      " 2   Country       9994 non-null   object \n",
      " 3   City          9994 non-null   object \n",
      " 4   State         9994 non-null   object \n",
      " 5   Postal Code   9994 non-null   int64  \n",
      " 6   Region        9994 non-null   object \n",
      " 7   Category      9994 non-null   object \n",
      " 8   Sub-Category  9994 non-null   object \n",
      " 9   Sales         9994 non-null   float64\n",
      " 10  Quantity      9994 non-null   int64  \n",
      " 11  Discount      9994 non-null   float64\n",
      " 12  Profit        9994 non-null   float64\n",
      "dtypes: float64(3), int64(2), object(8)\n",
      "memory usage: 1015.1+ KB\n"
     ]
    }
   ],
   "source": [
    "data.info()"
   ]
  },
  {
   "cell_type": "code",
   "execution_count": 6,
   "id": "3301f3e4",
   "metadata": {},
   "outputs": [
    {
     "data": {
      "text/plain": [
       "Index(['Ship Mode', 'Segment', 'Country', 'City', 'State', 'Postal Code',\n",
       "       'Region', 'Category', 'Sub-Category', 'Sales', 'Quantity', 'Discount',\n",
       "       'Profit'],\n",
       "      dtype='object')"
      ]
     },
     "execution_count": 6,
     "metadata": {},
     "output_type": "execute_result"
    }
   ],
   "source": [
    "data.columns"
   ]
  },
  {
   "cell_type": "code",
   "execution_count": 7,
   "id": "3d33d780",
   "metadata": {},
   "outputs": [
    {
     "data": {
      "text/plain": [
       "(4,)"
      ]
     },
     "execution_count": 7,
     "metadata": {},
     "output_type": "execute_result"
    }
   ],
   "source": [
    "data[\"Ship Mode\"].unique().shape"
   ]
  },
  {
   "cell_type": "code",
   "execution_count": 8,
   "id": "f58b62d9",
   "metadata": {},
   "outputs": [
    {
     "name": "stdout",
     "output_type": "stream",
     "text": [
      "unique category Ship Mode is 4\n",
      "unique category Segment is 3\n",
      "unique category Country is 1\n",
      "unique category City is 531\n",
      "unique category State is 49\n",
      "unique category Postal Code is 631\n",
      "unique category Region is 4\n",
      "unique category Category is 3\n",
      "unique category Sub-Category is 17\n",
      "unique category Sales is 5825\n",
      "unique category Quantity is 14\n",
      "unique category Discount is 12\n",
      "unique category Profit is 7287\n"
     ]
    }
   ],
   "source": [
    "for i in data.columns:\n",
    "    print(\"unique category\",i+\" is\",data[i].nunique())"
   ]
  },
  {
   "cell_type": "code",
   "execution_count": 9,
   "id": "86d73a34",
   "metadata": {},
   "outputs": [
    {
     "data": {
      "text/plain": [
       "<AxesSubplot:>"
      ]
     },
     "execution_count": 9,
     "metadata": {},
     "output_type": "execute_result"
    },
    {
     "data": {
      "image/png": "[encoded data removed]",
      "text/plain": [
       "<Figure size 432x288 with 1 Axes>"
      ]
     },
     "metadata": {
      "needs_background": "light"
     },
     "output_type": "display_data"
    }
   ],
   "source": [
    "data.boxplot()"
   ]
  },
  {
   "cell_type": "markdown",
   "id": "f66eb3ac",
   "metadata": {},
   "source": [
    "# ship mode on sale"
   ]
  },
  {
   "cell_type": "code",
   "execution_count": 10,
   "id": "61a8349c",
   "metadata": {},
   "outputs": [
    {
     "data": {
      "text/plain": [
       "array(['First Class', 'Same Day', 'Second Class', 'Standard Class'],\n",
       "      dtype=object)"
      ]
     },
     "execution_count": 10,
     "metadata": {},
     "output_type": "execute_result"
    }
   ],
   "source": [
    "x=data[\"Ship Mode\"].unique()\n",
    "x.sort()\n",
    "x"
   ]
  },
  {
   "cell_type": "code",
   "execution_count": 11,
   "id": "fef9b7d8",
   "metadata": {},
   "outputs": [
    {
     "data": {
      "text/plain": [
       "Ship Mode\n",
       "First Class       3.514284e+05\n",
       "Same Day          1.283631e+05\n",
       "Second Class      4.591936e+05\n",
       "Standard Class    1.358216e+06\n",
       "Name: Sales, dtype: float64"
      ]
     },
     "execution_count": 11,
     "metadata": {},
     "output_type": "execute_result"
    }
   ],
   "source": [
    "y=data.groupby([\"Ship Mode\"])[\"Sales\"].sum()\n",
    "y"
   ]
  },
  {
   "cell_type": "markdown",
   "id": "c5279246",
   "metadata": {},
   "source": [
    "# most profit"
   ]
  },
  {
   "cell_type": "code",
   "execution_count": 12,
   "id": "01f18519",
   "metadata": {},
   "outputs": [
    {
     "data": {
      "text/plain": [
       "Ship Mode\n",
       "First Class        48969.8399\n",
       "Same Day           15891.7589\n",
       "Second Class       57446.6354\n",
       "Standard Class    164088.7875\n",
       "Name: Profit, dtype: float64"
      ]
     },
     "execution_count": 12,
     "metadata": {},
     "output_type": "execute_result"
    }
   ],
   "source": [
    "pro=data.groupby([\"Ship Mode\"])[\"Profit\"].sum()\n",
    "pro"
   ]
  },
  {
   "cell_type": "markdown",
   "id": "903870f6",
   "metadata": {},
   "source": [
    "# most discount"
   ]
  },
  {
   "cell_type": "code",
   "execution_count": 13,
   "id": "4da51663",
   "metadata": {},
   "outputs": [
    {
     "data": {
      "text/plain": [
       "Ship Mode\n",
       "First Class       253.17\n",
       "Same Day           82.75\n",
       "Second Class      270.15\n",
       "Standard Class    955.02\n",
       "Name: Discount, dtype: float64"
      ]
     },
     "execution_count": 13,
     "metadata": {},
     "output_type": "execute_result"
    }
   ],
   "source": [
    "dis=data.groupby([\"Ship Mode\"])[\"Discount\"].sum()\n",
    "dis"
   ]
  },
  {
   "cell_type": "code",
   "execution_count": 14,
   "id": "447aa9a7",
   "metadata": {},
   "outputs": [
    {
     "data": {
      "image/png": "[encoded data removed]",
      "text/plain": [
       "<Figure size 1440x360 with 3 Axes>"
      ]
     },
     "metadata": {
      "needs_background": "light"
     },
     "output_type": "display_data"
    }
   ],
   "source": [
    "fig,(ax1,ax2,ax3)=plt.subplots(1,3,figsize=(20,5))\n",
    "ax1.bar(x,y,color=['red','blue','purple','green'])\n",
    "ax2.bar(x,pro,color=['red','blue','purple','green'])\n",
    "ax3.bar(x,dis,color=['red','blue','purple','green'])\n",
    "ax1.set_title(\"ship total sale\")\n",
    "ax2.set_title(\"ship total profit\")\n",
    "ax3.set_title(\"ship total discount\")\n",
    "plt.show()"
   ]
  },
  {
   "cell_type": "markdown",
   "id": "a13c0198",
   "metadata": {},
   "source": [
    "# conclusion: ship mode standard class have more sale compared to others"
   ]
  },
  {
   "cell_type": "markdown",
   "id": "aa4df332",
   "metadata": {},
   "source": [
    "# segmentwise and it's impact"
   ]
  },
  {
   "cell_type": "code",
   "execution_count": 15,
   "id": "39124734",
   "metadata": {},
   "outputs": [
    {
     "data": {
      "text/plain": [
       "array(['Consumer', 'Corporate', 'Home Office'], dtype=object)"
      ]
     },
     "execution_count": 15,
     "metadata": {},
     "output_type": "execute_result"
    }
   ],
   "source": [
    "x1=data[\"Segment\"].unique()\n",
    "x1"
   ]
  },
  {
   "cell_type": "code",
   "execution_count": 16,
   "id": "c0fda7fe",
   "metadata": {},
   "outputs": [
    {
     "data": {
      "text/plain": [
       "Segment\n",
       "Consumer       1.161401e+06\n",
       "Corporate      7.061464e+05\n",
       "Home Office    4.296531e+05\n",
       "Name: Sales, dtype: float64"
      ]
     },
     "execution_count": 16,
     "metadata": {},
     "output_type": "execute_result"
    }
   ],
   "source": [
    "y1=data.groupby([\"Segment\"])[\"Sales\"].sum()\n",
    "y1"
   ]
  },
  {
   "cell_type": "markdown",
   "id": "e0f34998",
   "metadata": {},
   "source": [
    "# segmentwise total profit"
   ]
  },
  {
   "cell_type": "code",
   "execution_count": 17,
   "id": "35a7db2c",
   "metadata": {},
   "outputs": [
    {
     "data": {
      "text/plain": [
       "Segment\n",
       "Consumer       134119.2092\n",
       "Corporate       91979.1340\n",
       "Home Office     60298.6785\n",
       "Name: Profit, dtype: float64"
      ]
     },
     "execution_count": 17,
     "metadata": {},
     "output_type": "execute_result"
    }
   ],
   "source": [
    "profit=data.groupby([\"Segment\"])[\"Profit\"].sum()\n",
    "profit"
   ]
  },
  {
   "cell_type": "markdown",
   "id": "2d49ac35",
   "metadata": {},
   "source": [
    "# segment total discount"
   ]
  },
  {
   "cell_type": "code",
   "execution_count": 18,
   "id": "edb9b730",
   "metadata": {},
   "outputs": [
    {
     "data": {
      "text/plain": [
       "Segment\n",
       "Consumer       820.91\n",
       "Corporate      477.85\n",
       "Home Office    262.33\n",
       "Name: Discount, dtype: float64"
      ]
     },
     "execution_count": 18,
     "metadata": {},
     "output_type": "execute_result"
    }
   ],
   "source": [
    "discount=data.groupby([\"Segment\"])[\"Discount\"].sum()\n",
    "discount"
   ]
  },
  {
   "cell_type": "code",
   "execution_count": 19,
   "id": "c7169c8b",
   "metadata": {},
   "outputs": [
    {
     "data": {
      "image/png": "[encoded data removed]",
      "text/plain": [
       "<Figure size 1080x360 with 3 Axes>"
      ]
     },
     "metadata": {
      "needs_background": "light"
     },
     "output_type": "display_data"
    }
   ],
   "source": [
    "fig,(ax1,ax2,ax3)=plt.subplots(1,3,figsize=(15,5))\n",
    "ax1.bar(x1,y1,color=[\"red\",\"green\",\"blue\"],)\n",
    "ax2.bar(x1,profit,color=[\"red\",\"green\",\"blue\"],)\n",
    "ax3.bar(x1,discount,color=[\"red\",\"green\",\"blue\",])\n",
    "ax1.set_title(\"segment total sale\")\n",
    "ax2.set_title(\"segment total profit\")\n",
    "ax3.set_title(\"segment total discount\")\n",
    "plt.show()\n"
   ]
  },
  {
   "cell_type": "markdown",
   "id": "9198cbd8",
   "metadata": {},
   "source": [
    "# conclusion: 1- consumer segment is the best compared other segment\n",
    "# 2-consumer offer good discount \n",
    "# 3-so we can increase the discount of corporate and home office to improve sales and profits"
   ]
  },
  {
   "cell_type": "markdown",
   "id": "f61d1748",
   "metadata": {},
   "source": [
    "# segmentwise average sales"
   ]
  },
  {
   "cell_type": "code",
   "execution_count": 20,
   "id": "c12255c4",
   "metadata": {},
   "outputs": [
    {
     "data": {
      "text/plain": [
       "array(['Consumer', 'Corporate', 'Home Office'], dtype=object)"
      ]
     },
     "execution_count": 20,
     "metadata": {},
     "output_type": "execute_result"
    }
   ],
   "source": [
    "x1=data[\"Segment\"].unique()\n",
    "x1"
   ]
  },
  {
   "cell_type": "code",
   "execution_count": 21,
   "id": "4d444bd2",
   "metadata": {},
   "outputs": [
    {
     "data": {
      "text/plain": [
       "Segment\n",
       "Consumer       223.733644\n",
       "Corporate      233.823300\n",
       "Home Office    240.972041\n",
       "Name: Sales, dtype: float64"
      ]
     },
     "execution_count": 21,
     "metadata": {},
     "output_type": "execute_result"
    }
   ],
   "source": [
    "y1=data.groupby([\"Segment\"]).agg({\"Sales\":np.average})\n",
    "y1=y1.iloc[:,-1]\n",
    "y1"
   ]
  },
  {
   "cell_type": "code",
   "execution_count": 22,
   "id": "f05b1397",
   "metadata": {},
   "outputs": [
    {
     "data": {
      "text/plain": [
       "Segment\n",
       "Consumer       25.836873\n",
       "Corporate      30.456667\n",
       "Home Office    33.818664\n",
       "Name: Profit, dtype: float64"
      ]
     },
     "execution_count": 22,
     "metadata": {},
     "output_type": "execute_result"
    }
   ],
   "source": [
    "profit=data.groupby([\"Segment\"]).agg({\"Profit\":np.mean})\n",
    "profit=profit.iloc[:,-1]\n",
    "profit"
   ]
  },
  {
   "cell_type": "code",
   "execution_count": 23,
   "id": "a805ab93",
   "metadata": {},
   "outputs": [
    {
     "data": {
      "image/png": "[encoded data removed]",
      "text/plain": [
       "<Figure size 1080x360 with 2 Axes>"
      ]
     },
     "metadata": {
      "needs_background": "light"
     },
     "output_type": "display_data"
    }
   ],
   "source": [
    "fig,(ax1,ax2)=plt.subplots(1,2,figsize=(15,5))\n",
    "ax1.bar(x1,y1,color=[\"red\",\"green\",\"blue\"])\n",
    "ax2.bar(x1,profit,color=[\"red\",\"green\",\"blue\"])\n",
    "ax1.set_title(\"average segment sale\")\n",
    "ax2.set_title(\"averge segment profit\")\n",
    "plt.show()"
   ]
  },
  {
   "cell_type": "markdown",
   "id": "ceb7195b",
   "metadata": {},
   "source": [
    "# conclusion:1-average sale and profit for home office more other two categories\n",
    "# 2-use the strategies of home office products to increase the sales of consumer and corporate"
   ]
  },
  {
   "cell_type": "markdown",
   "id": "79b0119d",
   "metadata": {},
   "source": [
    "# region total sales and profit performance"
   ]
  },
  {
   "cell_type": "code",
   "execution_count": 24,
   "id": "d638bba1",
   "metadata": {},
   "outputs": [
    {
     "data": {
      "text/plain": [
       "array(['South', 'West', 'Central', 'East'], dtype=object)"
      ]
     },
     "execution_count": 24,
     "metadata": {},
     "output_type": "execute_result"
    }
   ],
   "source": [
    "data[\"Region\"].unique()"
   ]
  },
  {
   "cell_type": "code",
   "execution_count": 25,
   "id": "fc96df11",
   "metadata": {},
   "outputs": [
    {
     "data": {
      "text/plain": [
       "Region\n",
       "Central    501239.8908\n",
       "East       678781.2400\n",
       "South      391721.9050\n",
       "West       725457.8245\n",
       "Name: Sales, dtype: float64"
      ]
     },
     "execution_count": 25,
     "metadata": {},
     "output_type": "execute_result"
    }
   ],
   "source": [
    "x=data.groupby([\"Region\"])[\"Sales\"].sum()\n",
    "x"
   ]
  },
  {
   "cell_type": "code",
   "execution_count": 26,
   "id": "4f8226bd",
   "metadata": {},
   "outputs": [
    {
     "data": {
      "text/plain": [
       "Region\n",
       "Central     39706.3625\n",
       "East        91522.7800\n",
       "South       46749.4303\n",
       "West       108418.4489\n",
       "Name: Profit, dtype: float64"
      ]
     },
     "execution_count": 26,
     "metadata": {},
     "output_type": "execute_result"
    }
   ],
   "source": [
    "profit=data.groupby([\"Region\"])[\"Profit\"].sum()\n",
    "profit"
   ]
  },
  {
   "cell_type": "code",
   "execution_count": 32,
   "id": "a609ccbf",
   "metadata": {},
   "outputs": [
    {
     "data": {
      "text/plain": [
       "Region\n",
       "Central    558.34\n",
       "East       414.00\n",
       "South      238.55\n",
       "West       350.20\n",
       "Name: Discount, dtype: float64"
      ]
     },
     "execution_count": 32,
     "metadata": {},
     "output_type": "execute_result"
    }
   ],
   "source": [
    "discount=data.groupby([\"Region\"])[\"Discount\"].sum()\n",
    "discount"
   ]
  },
  {
   "cell_type": "code",
   "execution_count": 31,
   "id": "7729975c",
   "metadata": {},
   "outputs": [
    {
     "data": {
      "image/png": "[encoded data removed]",
      "text/plain": [
       "<Figure size 1440x504 with 2 Axes>"
      ]
     },
     "metadata": {},
     "output_type": "display_data"
    }
   ],
   "source": [
    "fig,(ax1,ax2)=plt.subplots(1,2,figsize=(20,7))\n",
    "ax1.pie(x,explode=[0,0,0.1,0],labels=['Central','East','South','West'],autopct='%1.2f%%',shadow=True,radius=1.2)\n",
    "ax2.pie(profit,explode=[0.1,0,0,0],labels=['Central','East','South','West'],autopct='%1.2f%%',shadow=True,radius=1.2)\n",
    "ax1.set_title('regionwise total sales persentage',fontdict={'verticalalignment':'bottom'})\n",
    "ax2.set_title('regionwise total profits persentage',fontdict={'verticalalignment':'top','horizontalalignment':'left'})\n",
    "plt.show()"
   ]
  },
  {
   "cell_type": "code",
   "execution_count": 35,
   "id": "187a67cf",
   "metadata": {},
   "outputs": [
    {
     "data": {
      "text/plain": [
       "Region\n",
       "Central    215.772661\n",
       "East       238.336110\n",
       "South      241.803645\n",
       "West       226.493233\n",
       "Name: Sales, dtype: float64"
      ]
     },
     "execution_count": 35,
     "metadata": {},
     "output_type": "execute_result"
    }
   ],
   "source": [
    "y=data.groupby(['Region']).agg({'Sales':np.mean})\n",
    "y=y.iloc[:,-1]\n",
    "y"
   ]
  },
  {
   "cell_type": "code",
   "execution_count": 43,
   "id": "dc7f7dec",
   "metadata": {},
   "outputs": [
    {
     "data": {
      "image/png": "[encoded data removed]",
      "text/plain": [
       "<Figure size 432x288 with 1 Axes>"
      ]
     },
     "metadata": {},
     "output_type": "display_data"
    }
   ],
   "source": [
    "plt.pie(y,explode=[0.1,0,0,0],labels=['Central','East','South','West'],shadow=True,radius=2,autopct='%1.2f%%',\n",
    "counterclock=45)\n",
    "plt.show()"
   ]
  },
  {
   "cell_type": "markdown",
   "id": "4ee141f9",
   "metadata": {},
   "source": [
    "# category sales performance"
   ]
  },
  {
   "cell_type": "code",
   "execution_count": 44,
   "id": "0fbc6e7a",
   "metadata": {},
   "outputs": [
    {
     "data": {
      "text/plain": [
       "Category\n",
       "Furniture          741999.7953\n",
       "Office Supplies    719047.0320\n",
       "Technology         836154.0330\n",
       "Name: Sales, dtype: float64"
      ]
     },
     "execution_count": 44,
     "metadata": {},
     "output_type": "execute_result"
    }
   ],
   "source": [
    "x=data.groupby([\"Category\"])[\"Sales\"].sum()\n",
    "x"
   ]
  },
  {
   "cell_type": "code",
   "execution_count": 45,
   "id": "30a4e660",
   "metadata": {},
   "outputs": [
    {
     "data": {
      "text/plain": [
       "Category\n",
       "Furniture           18451.2728\n",
       "Office Supplies    122490.8008\n",
       "Technology         145454.9481\n",
       "Name: Profit, dtype: float64"
      ]
     },
     "execution_count": 45,
     "metadata": {},
     "output_type": "execute_result"
    }
   ],
   "source": [
    "profit=data.groupby([\"Category\"])[\"Profit\"].sum()\n",
    "profit"
   ]
  },
  {
   "cell_type": "code",
   "execution_count": 65,
   "id": "a4caa781",
   "metadata": {},
   "outputs": [
    {
     "data": {
      "image/png": "[encoded data removed]",
      "text/plain": [
       "<Figure size 1080x360 with 2 Axes>"
      ]
     },
     "metadata": {},
     "output_type": "display_data"
    }
   ],
   "source": [
    "fig,(ax1,ax2)=plt.subplots(1,2,figsize=(15,5))\n",
    "ax1.pie(x,explode=[0,0.1,0],labels=['Furniture','Office Supplies','Technology'],autopct='%1.2f%%',shadow=True,radius=1)\n",
    "ax2.pie(profit,explode=[0.2,0,0],labels=['Furniture','Office Supplies','Technology'],autopct='%1.2f%%',shadow=True,radius=1)\n",
    "ax1.set_title(\"the persntage sales per category\")\n",
    "ax2.set_title(\"the persentage of profit per category\")\n",
    "plt.show()"
   ]
  },
  {
   "cell_type": "markdown",
   "id": "821e6f6a",
   "metadata": {},
   "source": [
    "# category average sales"
   ]
  },
  {
   "cell_type": "code",
   "execution_count": 67,
   "id": "d9bf1605",
   "metadata": {},
   "outputs": [
    {
     "data": {
      "text/plain": [
       "Category\n",
       "Furniture          349.834887\n",
       "Office Supplies    119.324101\n",
       "Technology         452.709276\n",
       "Name: Sales, dtype: float64"
      ]
     },
     "execution_count": 67,
     "metadata": {},
     "output_type": "execute_result"
    }
   ],
   "source": [
    "y=data.groupby(['Category']).agg({\"Sales\":np.mean})\n",
    "y=y.iloc[:,-1]\n",
    "y"
   ]
  },
  {
   "cell_type": "code",
   "execution_count": 76,
   "id": "2dc20b2d",
   "metadata": {},
   "outputs": [
    {
     "data": {
      "image/png": "[encoded data removed]",
      "text/plain": [
       "<Figure size 1080x360 with 1 Axes>"
      ]
     },
     "metadata": {},
     "output_type": "display_data"
    }
   ],
   "source": [
    "fig,(ax1)=plt.subplots(1,1,figsize=(15,5))\n",
    "ax1.pie(y,explode=[0,0.2,0],labels=['Furniture','Office Supplies','Technology'],autopct='%1.2f%%',shadow=True,radius=1\n",
    "       ,counterclock=90)\n",
    "ax1.set_title(\"the persentage of average sales per category\")\n",
    "plt.show()"
   ]
  },
  {
   "cell_type": "markdown",
   "id": "172863fd",
   "metadata": {},
   "source": [
    "# sub_Category  sales performance"
   ]
  },
  {
   "cell_type": "code",
   "execution_count": 127,
   "id": "b82fc5eb",
   "metadata": {},
   "outputs": [
    {
     "name": "stdout",
     "output_type": "stream",
     "text": [
      "['Accessories' 'Appliances' 'Art' 'Binders' 'Bookcases' 'Chairs' 'Copiers'\n",
      " 'Envelopes' 'Fasteners' 'Furnishings' 'Labels' 'Machines' 'Paper'\n",
      " 'Phones' 'Storage' 'Supplies' 'Tables']\n"
     ]
    }
   ],
   "source": [
    "x4=data[\"Sub-Category\"].unique()\n",
    "x4.sort()\n",
    "x4=print(x4)\n",
    "x4"
   ]
  },
  {
   "cell_type": "code",
   "execution_count": 130,
   "id": "24c072db",
   "metadata": {},
   "outputs": [],
   "source": [
    "x4=np.array(['Accessories','Appliances','Art','Binders','Bookcases','Chairs','Copiers'\n",
    " ,'Envelopes','Fasteners' ,'Furnishings', 'Labels', 'Machines' ,'Paper'\n",
    " ,'Phones', 'Storage', 'Supplies', 'Tables'])"
   ]
  },
  {
   "cell_type": "code",
   "execution_count": 131,
   "id": "bf5b2da3",
   "metadata": {},
   "outputs": [
    {
     "data": {
      "text/plain": [
       "Sub-Category\n",
       "Accessories    167380.3180\n",
       "Appliances     107532.1610\n",
       "Art             27118.7920\n",
       "Binders        203412.7330\n",
       "Bookcases      114879.9963\n",
       "Chairs         328449.1030\n",
       "Copiers        149528.0300\n",
       "Envelopes       16476.4020\n",
       "Fasteners        3024.2800\n",
       "Furnishings     91705.1640\n",
       "Labels          12486.3120\n",
       "Machines       189238.6310\n",
       "Paper           78479.2060\n",
       "Phones         330007.0540\n",
       "Storage        223843.6080\n",
       "Supplies        46673.5380\n",
       "Tables         206965.5320\n",
       "Name: Sales, dtype: float64"
      ]
     },
     "execution_count": 131,
     "metadata": {},
     "output_type": "execute_result"
    }
   ],
   "source": [
    "y4=data.groupby([\"Sub-Category\"])[\"Sales\"].sum()\n",
    "y4"
   ]
  },
  {
   "cell_type": "code",
   "execution_count": 132,
   "id": "4433a0d4",
   "metadata": {},
   "outputs": [
    {
     "data": {
      "text/plain": [
       "Sub-Category\n",
       "Accessories    41936.6357\n",
       "Appliances     18138.0054\n",
       "Art             6527.7870\n",
       "Binders        30221.7633\n",
       "Bookcases      -3472.5560\n",
       "Chairs         26590.1663\n",
       "Copiers        55617.8249\n",
       "Envelopes       6964.1767\n",
       "Fasteners        949.5182\n",
       "Furnishings    13059.1436\n",
       "Labels          5546.2540\n",
       "Machines        3384.7569\n",
       "Paper          34053.5693\n",
       "Phones         44515.7306\n",
       "Storage        21278.8264\n",
       "Supplies       -1189.0995\n",
       "Tables        -17725.4811\n",
       "Name: Profit, dtype: float64"
      ]
     },
     "execution_count": 132,
     "metadata": {},
     "output_type": "execute_result"
    }
   ],
   "source": [
    "profit=data.groupby([\"Sub-Category\"])[\"Profit\"].sum()\n",
    "profit"
   ]
  },
  {
   "cell_type": "code",
   "execution_count": 133,
   "id": "aab77e01",
   "metadata": {},
   "outputs": [
    {
     "data": {
      "text/plain": [
       "array([ 0,  1,  2,  3,  4,  5,  6,  7,  8,  9, 10, 11, 12, 13, 14, 15, 16])"
      ]
     },
     "execution_count": 133,
     "metadata": {},
     "output_type": "execute_result"
    }
   ],
   "source": [
    "xpos=np.arange(len(x4))\n",
    "xpos"
   ]
  },
  {
   "cell_type": "code",
   "execution_count": 135,
   "id": "2d03ea66",
   "metadata": {},
   "outputs": [
    {
     "data": {
      "image/png": "[encoded data removed]",
      "text/plain": [
       "<Figure size 1080x360 with 1 Axes>"
      ]
     },
     "metadata": {
      "needs_background": "light"
     },
     "output_type": "display_data"
    }
   ],
   "source": [
    "fig,(ax1) =plt.subplots(1,figsize=(15,5))\n",
    "plt.xticks(xpos,x4,rotation=90)\n",
    "ax1.bar(xpos-0.2,height=y4,width=0.3,color=['g'],label='slaes')\n",
    "ax1.bar(xpos+0.2,height=profit,width=0.3,color=['y'],label='profit')\n",
    "plt.xlabel(\"sub_category\")\n",
    "plt.ylabel(\"sales\")\n",
    "plt.legend()\n",
    "plt.show()"
   ]
  },
  {
   "cell_type": "markdown",
   "id": "cdf03d78",
   "metadata": {},
   "source": [
    "# sub_category average sales"
   ]
  },
  {
   "cell_type": "code",
   "execution_count": 138,
   "id": "86b63640",
   "metadata": {},
   "outputs": [
    {
     "data": {
      "text/plain": [
       "Sub-Category\n",
       "Accessories     215.974604\n",
       "Appliances      230.755710\n",
       "Art              34.068834\n",
       "Binders         133.560560\n",
       "Bookcases       503.859633\n",
       "Chairs          532.332420\n",
       "Copiers        2198.941618\n",
       "Envelopes        64.867724\n",
       "Fasteners        13.936774\n",
       "Furnishings      95.825668\n",
       "Labels           34.303055\n",
       "Machines       1645.553313\n",
       "Paper            57.284092\n",
       "Phones          371.211534\n",
       "Storage         264.590553\n",
       "Supplies        245.650200\n",
       "Tables          648.794771\n",
       "Name: Sales, dtype: float64"
      ]
     },
     "execution_count": 138,
     "metadata": {},
     "output_type": "execute_result"
    }
   ],
   "source": [
    "x=data.groupby([\"Sub-Category\"]).agg({\"Sales\":np.mean})\n",
    "x=x.iloc[:,-1]\n",
    "x"
   ]
  },
  {
   "cell_type": "code",
   "execution_count": 139,
   "id": "14af14a2",
   "metadata": {},
   "outputs": [
    {
     "data": {
      "image/png": "[encoded data removed]",
      "text/plain": [
       "<Figure size 1080x360 with 1 Axes>"
      ]
     },
     "metadata": {
      "needs_background": "light"
     },
     "output_type": "display_data"
    }
   ],
   "source": [
    "fig,(ax1)=plt.subplots(1,figsize=(15,5))\n",
    "ax1.bar(x4,height=x,color=['r','g','b','y','k','c','r','g','b','k','y','c','r','g','b','k','y'])\n",
    "plt.xticks(rotation=20)\n",
    "plt.show()"
   ]
  },
  {
   "cell_type": "markdown",
   "id": "683ede35",
   "metadata": {},
   "source": [
    "# conclusion: 1-copiers and machines are the most sale than other sub_category\n",
    "# 2- to increase average sales of sub_category we use the strategies of selling more copiers and machines"
   ]
  }
 ],
 "metadata": {
  "kernelspec": {
   "display_name": "Python 3 (ipykernel)",
   "language": "python",
   "name": "python3"
  },
  "language_info": {
   "codemirror_mode": {
    "name": "ipython",
    "version": 3
   },
   "file_extension": ".py",
   "mimetype": "text/x-python",
   "name": "python",
   "nbconvert_exporter": "python",
   "pygments_lexer": "ipython3",
   "version": "3.9.12"
  }
 },
 "nbformat": 4,
 "nbformat_minor": 5
}
